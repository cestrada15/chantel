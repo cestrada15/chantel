{
 "cells": [
  {
   "cell_type": "markdown",
   "metadata": {},
   "source": [
    "# Assignment 2-Parallel Programing \n"
   ]
  },
  {
   "cell_type": "markdown",
   "metadata": {},
   "source": [
    "# Imports"
   ]
  },
  {
   "cell_type": "code",
   "execution_count": 32,
   "metadata": {
    "scrolled": false
   },
   "outputs": [
    {
     "name": "stdout",
     "output_type": "stream",
     "text": [
      "Defaulting to user installation because normal site-packages is not writeable\r\n",
      "Requirement already satisfied: utils in /Users/chantellestrada/Library/Python/3.7/lib/python/site-packages (1.0.1)\r\n"
     ]
    }
   ],
   "source": [
    "!pip install utils"
   ]
  },
  {
   "cell_type": "code",
   "execution_count": 57,
   "metadata": {
    "scrolled": true
   },
   "outputs": [
    {
     "name": "stdout",
     "output_type": "stream",
     "text": [
      "Defaulting to user installation because normal site-packages is not writeable\n",
      "\u001b[31mERROR: Could not find a version that satisfies the requirement images (from versions: none)\u001b[0m\n",
      "\u001b[31mERROR: No matching distribution found for images\u001b[0m\n"
     ]
    }
   ],
   "source": [
    "!pip install images"
   ]
  },
  {
   "cell_type": "code",
   "execution_count": 55,
   "metadata": {},
   "outputs": [
    {
     "ename": "ModuleNotFoundError",
     "evalue": "No module named 'images'",
     "output_type": "error",
     "traceback": [
      "\u001b[0;31m---------------------------------------------------------------------------\u001b[0m",
      "\u001b[0;31mModuleNotFoundError\u001b[0m                       Traceback (most recent call last)",
      "\u001b[0;32m<ipython-input-55-393dbbbe5ca3>\u001b[0m in \u001b[0;36m<module>\u001b[0;34m\u001b[0m\n\u001b[1;32m      1\u001b[0m \u001b[0;32mimport\u001b[0m \u001b[0mutils\u001b[0m\u001b[0;34m\u001b[0m\u001b[0;34m\u001b[0m\u001b[0m\n\u001b[0;32m----> 2\u001b[0;31m \u001b[0;32mimport\u001b[0m \u001b[0mimages\u001b[0m\u001b[0;34m\u001b[0m\u001b[0;34m\u001b[0m\u001b[0m\n\u001b[0m",
      "\u001b[0;31mModuleNotFoundError\u001b[0m: No module named 'images'"
     ]
    }
   ],
   "source": [
    "import utils\n",
    "import images"
   ]
  },
  {
   "cell_type": "markdown",
   "metadata": {},
   "source": [
    "# Set Up Project "
   ]
  },
  {
   "cell_type": "code",
   "execution_count": 48,
   "metadata": {},
   "outputs": [
    {
     "name": "stdout",
     "output_type": "stream",
     "text": [
      "Config file setup properly.\n"
     ]
    }
   ],
   "source": [
    "import os\n",
    "import sys\n",
    "import configparser\n",
    "\n",
    "\n",
    "def create_config_file(access_key='JBXRyb5OeB0ZlzdTBT4z9cwvfm5TeVe1DjU-BFYDwK8', secret_key='yptePdAJr2_kZ2DwwW4ZXHXbS0yiJt1gMJF1ydTxByw'):\n",
    "    \"\"\"\n",
    "    Creates a config file for secret stuff. Option to provide keys.\n",
    "    Parameters:\n",
    "    access_key: Unsplash access key.\n",
    "    secret_key: Unsplash secret key.\n",
    "    \"\"\"\n",
    "    config = configparser.ConfigParser()\n",
    "    \n",
    "    if not os.path.exists('config.ini'):\n",
    "        config['UNSPLASH'] = dict(access_key=access_key, secret_key=secret_key)\n",
    "\n",
    "        with open('config.ini', 'w+') as configfile:\n",
    "            config.write(configfile)\n",
    "    \n",
    "        print('A new file is created. Please fill your access_key.')\n",
    "    else:\n",
    "        config.read('config.ini')\n",
    "        client_id = config.get('UNSPLASH', 'access_key', fallback='no_key')\n",
    "        \n",
    "        if client_id in (None, '', 'no_key'):\n",
    "            print('No key is provided. Please fill your key.')\n",
    "        else:\n",
    "            print('Config file setup properly.')\n",
    "create_config_file()\n",
    "\n",
    "\n",
    "def progressbar(it, prefix=\"\", size=60, file=sys.stdout):\n",
    "    \"\"\"\n",
    "    Progress bar function for long processes.\n",
    "    it      : iterator\n",
    "    prefix  : custom string to add on progress bar.\n",
    "    size    : size of the progress bar\n",
    "    file    : where the progress bar runs.\n",
    "    For more information, check the original answer from\n",
    "    stackoverflow, https://stackoverflow.com/a/34482761.\n",
    "    \"\"\"\n",
    "    count = len(it)\n",
    "\n",
    "    def show(j):\n",
    "        x = int(size*j/count)\n",
    "        file.write(\"%s[%s%s] %i/%i\\r\" %\n",
    "                   (prefix, \"#\"*x, \".\"*(size-x), j, count))\n",
    "        file.flush()\n",
    "    show(0)\n",
    "    for i, item in enumerate(it):\n",
    "        yield item\n",
    "        show(i+1)\n",
    "    file.write(\"\\n\")\n",
    "    file.flush()\n"
   ]
  },
  {
   "cell_type": "code",
   "execution_count": 54,
   "metadata": {},
   "outputs": [
    {
     "name": "stdout",
     "output_type": "stream",
     "text": [
      "Found 0 images in 0 files. Starting to download...\n",
      "This may take a while.\n"
     ]
    },
    {
     "ename": "AttributeError",
     "evalue": "module 'utils' has no attribute 'progressbar'",
     "output_type": "error",
     "traceback": [
      "\u001b[0;31m---------------------------------------------------------------------------\u001b[0m",
      "\u001b[0;31mAttributeError\u001b[0m                            Traceback (most recent call last)",
      "\u001b[0;32m<ipython-input-54-aa0e40b76372>\u001b[0m in \u001b[0;36m<module>\u001b[0;34m\u001b[0m\n\u001b[1;32m    116\u001b[0m     \u001b[0mprint\u001b[0m\u001b[0;34m(\u001b[0m\u001b[0;34m'Done!'\u001b[0m\u001b[0;34m)\u001b[0m\u001b[0;34m\u001b[0m\u001b[0;34m\u001b[0m\u001b[0m\n\u001b[1;32m    117\u001b[0m \u001b[0;34m\u001b[0m\u001b[0m\n\u001b[0;32m--> 118\u001b[0;31m \u001b[0mdownload_images\u001b[0m\u001b[0;34m(\u001b[0m\u001b[0;34m'id'\u001b[0m\u001b[0;34m)\u001b[0m\u001b[0;34m\u001b[0m\u001b[0;34m\u001b[0m\u001b[0m\n\u001b[0m\u001b[1;32m    119\u001b[0m \u001b[0;32mdef\u001b[0m \u001b[0mcreate_thumbnail\u001b[0m\u001b[0;34m(\u001b[0m\u001b[0msize\u001b[0m\u001b[0;34m=\u001b[0m\u001b[0;34m(\u001b[0m\u001b[0;36m128\u001b[0m\u001b[0;34m,\u001b[0m \u001b[0;36m128\u001b[0m\u001b[0;34m)\u001b[0m\u001b[0;34m)\u001b[0m\u001b[0;34m:\u001b[0m\u001b[0;34m\u001b[0m\u001b[0;34m\u001b[0m\u001b[0m\n\u001b[1;32m    120\u001b[0m     \"\"\"\n",
      "\u001b[0;32m<ipython-input-54-aa0e40b76372>\u001b[0m in \u001b[0;36mdownload_images\u001b[0;34m(quality)\u001b[0m\n\u001b[1;32m    103\u001b[0m \u001b[0;34m\u001b[0m\u001b[0m\n\u001b[1;32m    104\u001b[0m     \u001b[0;31m# download images -  this is where downloading happens\u001b[0m\u001b[0;34m\u001b[0m\u001b[0;34m\u001b[0m\u001b[0;34m\u001b[0m\u001b[0m\n\u001b[0;32m--> 105\u001b[0;31m     \u001b[0;32mfor\u001b[0m \u001b[0mimage\u001b[0m \u001b[0;32min\u001b[0m \u001b[0mutils\u001b[0m\u001b[0;34m.\u001b[0m\u001b[0mprogressbar\u001b[0m\u001b[0;34m(\u001b[0m\u001b[0mit\u001b[0m\u001b[0;34m=\u001b[0m\u001b[0mimages_list\u001b[0m\u001b[0;34m,\u001b[0m \u001b[0mprefix\u001b[0m\u001b[0;34m=\u001b[0m\u001b[0;34m'Downloading '\u001b[0m\u001b[0;34m)\u001b[0m\u001b[0;34m:\u001b[0m\u001b[0;34m\u001b[0m\u001b[0;34m\u001b[0m\u001b[0m\n\u001b[0m\u001b[1;32m    106\u001b[0m         \u001b[0mid\u001b[0m \u001b[0;34m=\u001b[0m \u001b[0mimage\u001b[0m\u001b[0;34m[\u001b[0m\u001b[0;34m'id'\u001b[0m\u001b[0;34m]\u001b[0m\u001b[0;34m\u001b[0m\u001b[0;34m\u001b[0m\u001b[0m\n\u001b[1;32m    107\u001b[0m         \u001b[0murl_quality\u001b[0m \u001b[0;34m=\u001b[0m \u001b[0mimage\u001b[0m\u001b[0;34m[\u001b[0m\u001b[0;34m'urls'\u001b[0m\u001b[0;34m]\u001b[0m\u001b[0;34m[\u001b[0m\u001b[0mquality\u001b[0m\u001b[0;34m]\u001b[0m\u001b[0;34m\u001b[0m\u001b[0;34m\u001b[0m\u001b[0m\n",
      "\u001b[0;31mAttributeError\u001b[0m: module 'utils' has no attribute 'progressbar'"
     ]
    }
   ],
   "source": [
    "# system imports\n",
    "import json\n",
    "import pathlib\n",
    "import requests\n",
    "import datetime\n",
    "import configparser\n",
    "\n",
    "# package imports\n",
    "from PIL import Image\n",
    "import pandas as pd\n",
    "\n",
    "# local imports\n",
    "import utils\n",
    "\n",
    "\n",
    "def download_data():\n",
    "    \"\"\"\n",
    "    Downloads images meta information from unsplash website as JSON.\n",
    "    \"\"\"\n",
    "    images_list = []\n",
    "\n",
    "    config = configparser.ConfigParser()\n",
    "\n",
    "    if len(config.read('config.ini')) == 0:\n",
    "        raise Exception('No config file found, you must create config first.')\n",
    "\n",
    "    client_id = config.get('UNSPLASH', 'access_key', fallback='no_key')\n",
    "    \n",
    "    if client_id in (None, '', 'no_key'):\n",
    "        raise Exception('No key is provided, please get your key.')\n",
    "\n",
    "    try:\n",
    "        for cnt in utils.progressbar(it=range(0, 1500, 30), prefix='Downloading '):\n",
    "            response = requests.get(\n",
    "                f'https://api.unsplash.com/photos/random/?count=30', \n",
    "                headers={\n",
    "                    'Accept-Version': 'v1',\n",
    "                    'Authorization': f'Client-ID {client_id}'\n",
    "                },\n",
    "                stream=True\n",
    "            )\n",
    "            \n",
    "            if response.status_code == 200:\n",
    "                raw_json = json.loads(response.content)\n",
    "                images_list.extend(raw_json)\n",
    "\n",
    "            elif response.status_code == 403:\n",
    "                print('Api limit reached!')\n",
    "                break\n",
    "            else:\n",
    "                print('Something went wrong!')\n",
    "                break\n",
    "        \n",
    "    except KeyboardInterrupt:\n",
    "        print('Operation interrupted by user.')\n",
    "    except Exception as ex:\n",
    "        print('Something went wrong', ex)\n",
    "    finally:\n",
    "        append_timestamp = round(datetime.datetime.now().timestamp())\n",
    "        with open(f'data/json/data_{append_timestamp}.json', 'w+') as writer:\n",
    "            json.dump(images_list, writer, indent=4)\n",
    "\n",
    "\n",
    "def _get_image_files_list():\n",
    "    \"\"\"\n",
    "    Get a list of all images from `data/json` folder.\n",
    "    \"\"\"\n",
    "    images_list = []\n",
    "    \n",
    "    # find all images\n",
    "    json_files = sorted(pathlib.Path('data/json').glob('data*.json'))\n",
    "    for json_file in json_files:\n",
    "        with open(json_file, 'r') as reader:\n",
    "            raw_json = json.load(reader)\n",
    "            images_list.extend(raw_json)\n",
    "    \n",
    "    return images_list, json_files\n",
    "\n",
    "def get_df():\n",
    "    \"\"\"\n",
    "    Returns a dataframe of the json in data/json folder.\n",
    "    \"\"\"\n",
    "    images_list, json_files = _get_image_files_list()\n",
    "    \n",
    "    return pd.DataFrame(images_list)\n",
    "\n",
    "\n",
    "def download_images(quality='regular'):\n",
    "    \"\"\"\n",
    "    Downloads images from given image \n",
    "    \n",
    "    Parameters:\n",
    "    quality : Options are raw | full | regular | small | thumb\n",
    "    For more information about quality, check unsplash documentation at\n",
    "    https://unsplash.com/documentation#example-image-use\n",
    "    \"\"\"\n",
    "    images_list, json_files = _get_image_files_list()\n",
    "    \n",
    "    # print information\n",
    "    print('Found {0} images in {1} files. Starting to download...'.format(\n",
    "        len(images_list), len(json_files)))\n",
    "    print('This may take a while.')\n",
    "\n",
    "    # download images -  this is where downloading happens\n",
    "    for image in utils.progressbar(it=images_list, prefix='Downloading '):\n",
    "        id = image['id']\n",
    "        url_quality = image['urls'][quality]\n",
    "        image_path = pathlib.Path(f'data/images/{id}.jpg')\n",
    "        if not image_path.exists():\n",
    "            response = requests.get(url_quality, stream=True)\n",
    "            if response.status_code == 200:\n",
    "                with open(image_path, 'wb') as f:\n",
    "                    f.write(response.content)\n",
    "\n",
    "    # final\n",
    "    print('Done!')\n",
    "\n",
    "download_images('id')\n",
    "def create_thumbnail(size=(128, 128)):\n",
    "    \"\"\"\n",
    "    create resized version of the image path given, with the same name \n",
    "    extended with _thumbnail.\n",
    "    \"\"\"\n",
    "    images_list, json_files = _get_image_files_list()\n",
    "    Image.MAX_IMAGE_PIXELS = None\n",
    "\n",
    "    # print information\n",
    "    print('Found {0} images in {1} files. Starting for processing...'.format(\n",
    "        len(images_list), len(json_files)))\n",
    "    print('This may take a while.')\n",
    "\n",
    "    # processing - this is where processing of an image happens\n",
    "    for image in utils.progressbar(it=images_list, prefix='Processing '):        \n",
    "        id = image['id']\n",
    "        image_path = pathlib.Path(f'data/images/{id}.jpg')\n",
    "\n",
    "        if image_path.exists():\n",
    "            # create thumbnail\n",
    "            image = Image.open(image_path.absolute())\n",
    "            image.thumbnail(size)\n",
    "\n",
    "            # save thumbnail\n",
    "            new_filename = image_path.parent.joinpath(\n",
    "                '{0}_thumbnail{1}'.format(image_path.stem, image_path.suffix))\n",
    "            image.convert('RGB').save(new_filename)\n",
    "    \n",
    "    # final\n",
    "    print('Done!')\n"
   ]
  },
  {
   "cell_type": "code",
   "execution_count": 36,
   "metadata": {},
   "outputs": [],
   "source": [
    "import json\n",
    "import pathlib\n",
    "import requests\n",
    "import datetime\n",
    "import configparser"
   ]
  },
  {
   "cell_type": "code",
   "execution_count": 45,
   "metadata": {},
   "outputs": [
    {
     "ename": "ImportError",
     "evalue": "cannot import name 'utils' from 'progressbar' (/Users/chantellestrada/Library/Python/3.7/lib/python/site-packages/progressbar/__init__.py)",
     "output_type": "error",
     "traceback": [
      "\u001b[0;31m---------------------------------------------------------------------------\u001b[0m",
      "\u001b[0;31mImportError\u001b[0m                               Traceback (most recent call last)",
      "\u001b[0;32m<ipython-input-45-f9f1c9ea3244>\u001b[0m in \u001b[0;36m<module>\u001b[0;34m\u001b[0m\n\u001b[0;32m----> 1\u001b[0;31m \u001b[0;32mfrom\u001b[0m \u001b[0mprogressbar\u001b[0m \u001b[0;32mimport\u001b[0m \u001b[0mutils\u001b[0m\u001b[0;34m\u001b[0m\u001b[0;34m\u001b[0m\u001b[0m\n\u001b[0m",
      "\u001b[0;31mImportError\u001b[0m: cannot import name 'utils' from 'progressbar' (/Users/chantellestrada/Library/Python/3.7/lib/python/site-packages/progressbar/__init__.py)"
     ]
    }
   ],
   "source": [
    "from progressbar import utils"
   ]
  },
  {
   "cell_type": "code",
   "execution_count": null,
   "metadata": {},
   "outputs": [],
   "source": []
  }
 ],
 "metadata": {
  "kernelspec": {
   "display_name": "Python 3",
   "language": "python",
   "name": "python3"
  },
  "language_info": {
   "codemirror_mode": {
    "name": "ipython",
    "version": 3
   },
   "file_extension": ".py",
   "mimetype": "text/x-python",
   "name": "python",
   "nbconvert_exporter": "python",
   "pygments_lexer": "ipython3",
   "version": "3.7.6"
  }
 },
 "nbformat": 4,
 "nbformat_minor": 4
}
